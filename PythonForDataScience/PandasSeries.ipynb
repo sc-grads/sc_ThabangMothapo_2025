{
 "cells": [
  {
   "cell_type": "code",
   "execution_count": 1,
   "id": "a821e1c7-87fc-4062-b973-9baf43fa20d4",
   "metadata": {},
   "outputs": [],
   "source": [
    "import numpy as np"
   ]
  },
  {
   "cell_type": "code",
   "execution_count": 2,
   "id": "77937c43-6fe1-4dab-a744-a2d31fcb48f8",
   "metadata": {},
   "outputs": [],
   "source": [
    "import pandas as pd"
   ]
  },
  {
   "cell_type": "code",
   "execution_count": 4,
   "id": "0f183396-1003-41e6-9219-ec863efff104",
   "metadata": {},
   "outputs": [],
   "source": [
    "labels = ['a', 'b', 'c',]\n",
    "my_data = [10, 20, 30]\n",
    "arr = np.array(my_data)\n",
    "d = {'a':10, 'b':20, 'c':30}"
   ]
  },
  {
   "cell_type": "code",
   "execution_count": 6,
   "id": "a25c6f5f-2c11-4688-b6cc-0d37ecb9a422",
   "metadata": {},
   "outputs": [
    {
     "data": {
      "text/plain": [
       "array([10, 20, 30])"
      ]
     },
     "execution_count": 6,
     "metadata": {},
     "output_type": "execute_result"
    }
   ],
   "source": [
    "arr"
   ]
  },
  {
   "cell_type": "code",
   "execution_count": 8,
   "id": "2898c183-7b44-42d8-aea0-a8d1dbb1aac7",
   "metadata": {},
   "outputs": [
    {
     "data": {
      "text/plain": [
       "0    10\n",
       "1    20\n",
       "2    30\n",
       "dtype: int64"
      ]
     },
     "execution_count": 8,
     "metadata": {},
     "output_type": "execute_result"
    }
   ],
   "source": [
    "pd.Series(data = my_data)"
   ]
  },
  {
   "cell_type": "code",
   "execution_count": 10,
   "id": "3bf13ef0-c666-45b9-8c8a-b21d9daf7962",
   "metadata": {},
   "outputs": [
    {
     "data": {
      "text/plain": [
       "a    10\n",
       "b    20\n",
       "c    30\n",
       "dtype: int64"
      ]
     },
     "execution_count": 10,
     "metadata": {},
     "output_type": "execute_result"
    }
   ],
   "source": [
    "pd.Series(data = my_data, index =labels)"
   ]
  },
  {
   "cell_type": "code",
   "execution_count": 11,
   "id": "5a805418-d8c9-4f21-8b30-3874b481c1b2",
   "metadata": {},
   "outputs": [
    {
     "data": {
      "text/plain": [
       "a    10\n",
       "b    20\n",
       "c    30\n",
       "dtype: int64"
      ]
     },
     "execution_count": 11,
     "metadata": {},
     "output_type": "execute_result"
    }
   ],
   "source": [
    "pd.Series(my_data, labels)"
   ]
  },
  {
   "cell_type": "code",
   "execution_count": 12,
   "id": "608d5779-96bb-4412-8994-2443a02f9cd4",
   "metadata": {},
   "outputs": [
    {
     "data": {
      "text/plain": [
       "['a', 'b', 'c']"
      ]
     },
     "execution_count": 12,
     "metadata": {},
     "output_type": "execute_result"
    }
   ],
   "source": [
    "labels"
   ]
  },
  {
   "cell_type": "code",
   "execution_count": 14,
   "id": "f4262987-ddfa-44ee-917f-03739e440e94",
   "metadata": {},
   "outputs": [
    {
     "data": {
      "text/plain": [
       "0      <built-in function sum>\n",
       "1    <built-in function print>\n",
       "2      <built-in function len>\n",
       "dtype: object"
      ]
     },
     "execution_count": 14,
     "metadata": {},
     "output_type": "execute_result"
    }
   ],
   "source": [
    "pd.Series(data = [sum,print,len])"
   ]
  },
  {
   "cell_type": "code",
   "execution_count": 15,
   "id": "85d06398-70ff-4d74-8f01-cb43878cf04b",
   "metadata": {},
   "outputs": [],
   "source": [
    "ser1 = pd.Series([1,2,3,4],['USA', 'Germany', 'USSR', 'Jp'])"
   ]
  },
  {
   "cell_type": "code",
   "execution_count": 16,
   "id": "f6309061-dd29-4ac1-b0f1-1d1429afbd49",
   "metadata": {},
   "outputs": [
    {
     "data": {
      "text/plain": [
       "USA        1\n",
       "Germany    2\n",
       "USSR       3\n",
       "Jp         4\n",
       "dtype: int64"
      ]
     },
     "execution_count": 16,
     "metadata": {},
     "output_type": "execute_result"
    }
   ],
   "source": [
    "ser1"
   ]
  },
  {
   "cell_type": "code",
   "execution_count": 17,
   "id": "6b836657-fe08-4e48-a63b-259b3620ce69",
   "metadata": {},
   "outputs": [
    {
     "data": {
      "text/plain": [
       "1"
      ]
     },
     "execution_count": 17,
     "metadata": {},
     "output_type": "execute_result"
    }
   ],
   "source": [
    "ser1['USA']"
   ]
  },
  {
   "cell_type": "code",
   "execution_count": 18,
   "id": "6a8c60ba-b417-4d51-8f66-c8c6c2bc93cd",
   "metadata": {},
   "outputs": [],
   "source": [
    "ser2 = pd.Series([1,3,4,6],['USA', 'Italy', 'Germany','USSR'])"
   ]
  },
  {
   "cell_type": "code",
   "execution_count": 19,
   "id": "7f12d934-fe65-4904-b214-94edaf65c7b7",
   "metadata": {},
   "outputs": [
    {
     "data": {
      "text/plain": [
       "USA        1\n",
       "Italy      3\n",
       "Germany    4\n",
       "USSR       6\n",
       "dtype: int64"
      ]
     },
     "execution_count": 19,
     "metadata": {},
     "output_type": "execute_result"
    }
   ],
   "source": [
    "ser2"
   ]
  },
  {
   "cell_type": "code",
   "execution_count": 20,
   "id": "510ece18-2c14-41e0-bdcd-16cf555950bc",
   "metadata": {},
   "outputs": [
    {
     "data": {
      "text/plain": [
       "Germany    6.0\n",
       "Italy      NaN\n",
       "Jp         NaN\n",
       "USA        2.0\n",
       "USSR       9.0\n",
       "dtype: float64"
      ]
     },
     "execution_count": 20,
     "metadata": {},
     "output_type": "execute_result"
    }
   ],
   "source": [
    "ser1 + ser2"
   ]
  },
  {
   "cell_type": "code",
   "execution_count": null,
   "id": "bc391d42-2972-4f01-97f2-ab82cd306a2e",
   "metadata": {},
   "outputs": [],
   "source": []
  }
 ],
 "metadata": {
  "kernelspec": {
   "display_name": "anaconda-panel-2023.05-py310",
   "language": "python",
   "name": "conda-env-anaconda-panel-2023.05-py310-py"
  },
  "language_info": {
   "codemirror_mode": {
    "name": "ipython",
    "version": 3
   },
   "file_extension": ".py",
   "mimetype": "text/x-python",
   "name": "python",
   "nbconvert_exporter": "python",
   "pygments_lexer": "ipython3",
   "version": "3.11.5"
  }
 },
 "nbformat": 4,
 "nbformat_minor": 5
}
